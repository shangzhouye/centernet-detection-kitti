{
  "nbformat": 4,
  "nbformat_minor": 0,
  "metadata": {
    "accelerator": "GPU",
    "colab": {
      "name": "KITTI_eval",
      "provenance": [],
      "collapsed_sections": [],
      "toc_visible": true
    },
    "kernelspec": {
      "display_name": "Python 3",
      "name": "python3"
    }
  },
  "cells": [
    {
      "cell_type": "markdown",
      "metadata": {
        "id": "QgAhLIuJEruY"
      },
      "source": [
        "## Load data"
      ]
    },
    {
      "cell_type": "code",
      "metadata": {
        "id": "aHOa4bZnsqG4",
        "colab": {
          "base_uri": "https://localhost:8080/"
        },
        "outputId": "55d88f35-f750-4e80-cc5c-a6095a0fb0be"
      },
      "source": [
        "!wget  https://s3.eu-central-1.amazonaws.com/avg-kitti/data_object_label_2.zip\n",
        "!unzip data_object_label_2.zip -d ./data_object_label_2 | grep \"I love DL\"\n",
        "!rm data_object_label_2.zip "
      ],
      "execution_count": 1,
      "outputs": [
        {
          "output_type": "stream",
          "text": [
            "--2020-12-09 11:35:41--  https://s3.eu-central-1.amazonaws.com/avg-kitti/data_object_label_2.zip\n",
            "Resolving s3.eu-central-1.amazonaws.com (s3.eu-central-1.amazonaws.com)... 52.219.75.79\n",
            "Connecting to s3.eu-central-1.amazonaws.com (s3.eu-central-1.amazonaws.com)|52.219.75.79|:443... connected.\n",
            "HTTP request sent, awaiting response... 200 OK\n",
            "Length: 5601213 (5.3M) [application/zip]\n",
            "Saving to: ‘data_object_label_2.zip’\n",
            "\n",
            "data_object_label_2 100%[===================>]   5.34M  6.65MB/s    in 0.8s    \n",
            "\n",
            "2020-12-09 11:35:43 (6.65 MB/s) - ‘data_object_label_2.zip’ saved [5601213/5601213]\n",
            "\n"
          ],
          "name": "stdout"
        }
      ]
    },
    {
      "cell_type": "code",
      "metadata": {
        "id": "iHpta6rkxZhY"
      },
      "source": [
        "import os\n",
        "import cv2\n",
        "import math\n",
        "import random\n",
        "import torch.utils.data as data\n",
        "import cv2\n",
        "import numpy as np\n",
        "import matplotlib.pyplot as plt\n",
        "import matplotlib.patches as patches\n",
        "\n",
        "import os\n",
        "\n",
        "from os import listdir\n",
        "from os.path import isfile, join\n",
        "import pandas as pd\n",
        "from sklearn.model_selection import train_test_split\n",
        "import gc; gc.enable() # memory is tight\n",
        "import torch\n",
        "\n",
        "dtype = \"float32\""
      ],
      "execution_count": 2,
      "outputs": []
    },
    {
      "cell_type": "markdown",
      "metadata": {
        "id": "-1HR953GBadl"
      },
      "source": [
        "## Create file path list"
      ]
    },
    {
      "cell_type": "code",
      "metadata": {
        "colab": {
          "base_uri": "https://localhost:8080/"
        },
        "id": "uygR_yvHJTbU",
        "outputId": "5295efc5-3b0d-4149-93dd-22fa59c3e007"
      },
      "source": [
        "#load list \n",
        "!wget https://xiaozhichen.github.io/files/mv3d/imagesets.tar.gz"
      ],
      "execution_count": 4,
      "outputs": [
        {
          "output_type": "stream",
          "text": [
            "--2020-12-09 11:35:58--  https://xiaozhichen.github.io/files/mv3d/imagesets.tar.gz\n",
            "Resolving xiaozhichen.github.io (xiaozhichen.github.io)... 185.199.108.153, 185.199.109.153, 185.199.110.153, ...\n",
            "Connecting to xiaozhichen.github.io (xiaozhichen.github.io)|185.199.108.153|:443... connected.\n",
            "HTTP request sent, awaiting response... 200 OK\n",
            "Length: 163840 (160K) [application/gzip]\n",
            "Saving to: ‘imagesets.tar.gz’\n",
            "\n",
            "\rimagesets.tar.gz      0%[                    ]       0  --.-KB/s               \rimagesets.tar.gz    100%[===================>] 160.00K  --.-KB/s    in 0.03s   \n",
            "\n",
            "2020-12-09 11:35:58 (5.26 MB/s) - ‘imagesets.tar.gz’ saved [163840/163840]\n",
            "\n"
          ],
          "name": "stdout"
        }
      ]
    },
    {
      "cell_type": "code",
      "metadata": {
        "colab": {
          "base_uri": "https://localhost:8080/"
        },
        "id": "D6UY0BXyLV24",
        "outputId": "b3715a36-ccfe-4424-e353-958682a9a9b2"
      },
      "source": [
        "#load eval code\n",
        "!git clone https://github.com/cguindel/eval_kitti.git\n"
      ],
      "execution_count": 5,
      "outputs": [
        {
          "output_type": "stream",
          "text": [
            "Cloning into 'eval_kitti'...\n",
            "remote: Enumerating objects: 20, done.\u001b[K\n",
            "remote: Counting objects:   5% (1/20)\u001b[K\rremote: Counting objects:  10% (2/20)\u001b[K\rremote: Counting objects:  15% (3/20)\u001b[K\rremote: Counting objects:  20% (4/20)\u001b[K\rremote: Counting objects:  25% (5/20)\u001b[K\rremote: Counting objects:  30% (6/20)\u001b[K\rremote: Counting objects:  35% (7/20)\u001b[K\rremote: Counting objects:  40% (8/20)\u001b[K\rremote: Counting objects:  45% (9/20)\u001b[K\rremote: Counting objects:  50% (10/20)\u001b[K\rremote: Counting objects:  55% (11/20)\u001b[K\rremote: Counting objects:  60% (12/20)\u001b[K\rremote: Counting objects:  65% (13/20)\u001b[K\rremote: Counting objects:  70% (14/20)\u001b[K\rremote: Counting objects:  75% (15/20)\u001b[K\rremote: Counting objects:  80% (16/20)\u001b[K\rremote: Counting objects:  85% (17/20)\u001b[K\rremote: Counting objects:  90% (18/20)\u001b[K\rremote: Counting objects:  95% (19/20)\u001b[K\rremote: Counting objects: 100% (20/20)\u001b[K\rremote: Counting objects: 100% (20/20), done.\u001b[K\n",
            "remote: Compressing objects:   6% (1/16)\u001b[K\rremote: Compressing objects:  12% (2/16)\u001b[K\rremote: Compressing objects:  18% (3/16)\u001b[K\rremote: Compressing objects:  25% (4/16)\u001b[K\rremote: Compressing objects:  31% (5/16)\u001b[K\rremote: Compressing objects:  37% (6/16)\u001b[K\rremote: Compressing objects:  43% (7/16)\u001b[K\rremote: Compressing objects:  50% (8/16)\u001b[K\rremote: Compressing objects:  56% (9/16)\u001b[K\rremote: Compressing objects:  62% (10/16)\u001b[K\rremote: Compressing objects:  68% (11/16)\u001b[K\rremote: Compressing objects:  75% (12/16)\u001b[K\rremote: Compressing objects:  81% (13/16)\u001b[K\rremote: Compressing objects:  87% (14/16)\u001b[K\rremote: Compressing objects:  93% (15/16)\u001b[K\rremote: Compressing objects: 100% (16/16)\u001b[K\rremote: Compressing objects: 100% (16/16), done.\u001b[K\n",
            "remote: Total 83 (delta 8), reused 11 (delta 4), pack-reused 63\u001b[K\n",
            "Unpacking objects: 100% (83/83), done.\n"
          ],
          "name": "stdout"
        }
      ]
    },
    {
      "cell_type": "code",
      "metadata": {
        "colab": {
          "base_uri": "https://localhost:8080/"
        },
        "id": "IUpU7Zm2Lp5l",
        "outputId": "5002a804-bd68-4d8d-e8c1-a2be3407dc52"
      },
      "source": [
        "!cd eval_kitti && mkdir build && cd build && cmake .. && make"
      ],
      "execution_count": 6,
      "outputs": [
        {
          "output_type": "stream",
          "text": [
            "-- The C compiler identification is GNU 7.5.0\n",
            "-- The CXX compiler identification is GNU 7.5.0\n",
            "-- Check for working C compiler: /usr/bin/cc\n",
            "-- Check for working C compiler: /usr/bin/cc -- works\n",
            "-- Detecting C compiler ABI info\n",
            "-- Detecting C compiler ABI info - done\n",
            "-- Detecting C compile features\n",
            "-- Detecting C compile features - done\n",
            "-- Check for working CXX compiler: /usr/bin/c++\n",
            "-- Check for working CXX compiler: /usr/bin/c++ -- works\n",
            "-- Detecting CXX compiler ABI info\n",
            "-- Detecting CXX compiler ABI info - done\n",
            "-- Detecting CXX compile features\n",
            "-- Detecting CXX compile features - done\n",
            "-- Found ZLIB: /usr/lib/x86_64-linux-gnu/libz.so (found version \"1.2.11\") \n",
            "-- Found PNG: /usr/lib/x86_64-linux-gnu/libpng.so (found version \"1.6.34\") \n",
            "-- Configuring done\n",
            "-- Generating done\n",
            "-- Build files have been written to: /content/eval_kitti/build\n",
            "\u001b[35m\u001b[1mScanning dependencies of target evaluate_object\u001b[0m\n",
            "[ 50%] \u001b[32mBuilding CXX object CMakeFiles/evaluate_object.dir/evaluate_object.cpp.o\u001b[0m\n",
            "[100%] \u001b[32m\u001b[1mLinking CXX executable evaluate_object\u001b[0m\n",
            "[100%] Built target evaluate_object\n"
          ],
          "name": "stdout"
        }
      ]
    },
    {
      "cell_type": "code",
      "metadata": {
        "id": "wgSnqkn9MDTk"
      },
      "source": [
        "!cd eval_kitti/build && mkdir data && cd data && mkdir object"
      ],
      "execution_count": 7,
      "outputs": []
    },
    {
      "cell_type": "code",
      "metadata": {
        "id": "WOoPEBzlMRHT"
      },
      "source": [
        "!cp -r ./data_object_label_2/training/label_2/ eval_kitti/build/data/object"
      ],
      "execution_count": 8,
      "outputs": []
    },
    {
      "cell_type": "code",
      "metadata": {
        "colab": {
          "base_uri": "https://localhost:8080/"
        },
        "id": "VxiquzLiMpmV",
        "outputId": "4e4d6b31-6cdb-4e9a-a962-d76a231305ef"
      },
      "source": [
        "\n",
        "!tar -xvf imagesets.tar.gz \n",
        "!mv ./ImageSets ./lists\n",
        "!mv ./lists ./eval_kitti/build/lists"
      ],
      "execution_count": 11,
      "outputs": [
        {
          "output_type": "stream",
          "text": [
            "ImageSets/\n",
            "ImageSets/test.txt\n",
            "ImageSets/train.txt\n",
            "ImageSets/val.txt\n",
            "ImageSets/trainval.txt\n"
          ],
          "name": "stdout"
        }
      ]
    },
    {
      "cell_type": "code",
      "metadata": {
        "id": "iQvS-62mNUKO"
      },
      "source": [
        "# !rm -rf eval_kitti/build/results/exp\n",
        "!mkdir eval_kitti/build/results && cd eval_kitti/build/results  && mkdir exp && cd exp \n"
      ],
      "execution_count": 14,
      "outputs": []
    },
    {
      "cell_type": "code",
      "metadata": {
        "id": "LTieg_ylNjdp"
      },
      "source": [
        "!cp -r ./eval_kitti/build/data/object/label_2/ eval_kitti/build/results/exp/\n",
        "!mv eval_kitti/build/results/exp/label_2 eval_kitti/build/results/exp/data"
      ],
      "execution_count": 16,
      "outputs": []
    },
    {
      "cell_type": "code",
      "metadata": {
        "id": "d9rtK9sXfb0G"
      },
      "source": [
        "for i in range(7481):\n",
        "\n",
        "  filepath = \"/content/eval_kitti/build/results/exp/data/\" + str(i).zfill(6)  + \".txt\"\n",
        "\n",
        "  with open(filepath) as fp:\n",
        "      lines = fp.read().splitlines()\n",
        "  with open(filepath, \"w\") as fp:\n",
        "      for line in lines:\n",
        "        if line[:3] == \"Car\":\n",
        "          print(line + \" 1.00\", file=fp)"
      ],
      "execution_count": 17,
      "outputs": []
    },
    {
      "cell_type": "code",
      "metadata": {
        "colab": {
          "base_uri": "https://localhost:8080/"
        },
        "id": "CMO4ZFK_N-d-",
        "outputId": "adb91210-4943-4769-ec78-c8bbd0d1dfd2"
      },
      "source": [
        "!cd eval_kitti/build && ./evaluate_object exp trainval"
      ],
      "execution_count": 18,
      "outputs": [
        {
          "output_type": "stream",
          "text": [
            "Starting evaluation...\n",
            "Results list: lists/trainval.txt\n",
            "Getting valid images... \n",
            "File loaded\n",
            "Loading detections... \n",
            "-----------\n",
            "GT STATS\n",
            "-----------\n",
            "car : 28742\n",
            "pedestrian : 4486\n",
            "cyclist : 1627\n",
            "van : 2914\n",
            "truck : 1094\n",
            "person_sitting : 222\n",
            "tram : 511\n",
            "-----------\n",
            "DET STATS\n",
            "-----------\n",
            "car : 28742\n",
            "pedestrian : 0\n",
            "cyclist : 0\n",
            "van : 0\n",
            "truck : 0\n",
            "person_sitting : 0\n",
            "tram : 0\n",
            "  done.\n",
            "car: Starting 2D evaluation (Easy/Moderate/Hard)...\n",
            "Getting detection scores to compute thresholds\n",
            "Evaluating on 5968 valid ground-truth instances and 17082 valid detections\n",
            "Computing statistics\n",
            "Stats computed \n",
            "Getting detection scores to compute thresholds\n",
            "Evaluating on 15706 valid ground-truth instances and 24634 valid detections\n",
            "Computing statistics\n",
            "Stats computed \n",
            "Getting detection scores to compute thresholds\n",
            "Evaluating on 21710 valid ground-truth instances and 24634 valid detections\n",
            "Computing statistics\n",
            "Stats computed \n",
            "Saving results/exp/plot/car_detection.txt\n",
            "-----------\n",
            "car_detection AP (%): 100.00 / 100.00 / 100.00\n",
            "-----------\n",
            "sh: 1: gnuplot: not found\n",
            "sh: 1: gnuplot: not found\n",
            "sh: 1: ps2pdf: not found\n",
            "sh: 1: pdfcrop: not found\n",
            "rm: cannot remove 'car_detection_large.pdf': No such file or directory\n",
            "Saving results/exp/plot/car_orientation.txt\n",
            "-----------\n",
            "car_orientation AOS (%): 100.00 / 100.00 / 100.00\n",
            "-----------\n",
            "sh: 1: gnuplot: not found\n",
            "sh: 1: gnuplot: not found\n",
            "sh: 1: ps2pdf: not found\n",
            "sh: 1: pdfcrop: not found\n",
            "rm: cannot remove 'car_orientation_large.pdf': No such file or directory\n",
            "Saving results/exp/plot/car_mppe.txt\n",
            "sh: 1: gnuplot: not found\n",
            "sh: 1: gnuplot: not found\n",
            "sh: 1: ps2pdf: not found\n",
            "sh: 1: pdfcrop: not found\n",
            "rm: cannot remove 'car_mppe_large.pdf': No such file or directory\n",
            "Found no pedestrian detections\n",
            "Found no cyclist detections\n",
            "Found no van detections\n",
            "Found no truck detections\n",
            "Found no person_sitting detections\n",
            "Found no tram detections\n",
            "car: Starting bird's eye view evaluation (Easy/Moderate/Hard)...\n",
            "Getting detection scores to compute thresholds\n",
            "Evaluating on 5968 valid ground-truth instances and 17082 valid detections\n",
            "Computing statistics\n",
            "Stats computed \n",
            "Getting detection scores to compute thresholds\n",
            "Evaluating on 15706 valid ground-truth instances and 24634 valid detections\n",
            "Computing statistics\n",
            "^C\n"
          ],
          "name": "stdout"
        }
      ]
    },
    {
      "cell_type": "code",
      "metadata": {
        "colab": {
          "base_uri": "https://localhost:8080/"
        },
        "id": "t9k2CY1EXfk7",
        "outputId": "98c6c5fe-9c66-46ee-8999-94141898c6a7"
      },
      "source": [
        "!python ./eval_kitti/parser.py exp"
      ],
      "execution_count": 20,
      "outputs": [
        {
          "output_type": "stream",
          "text": [
            "--car detection--\n",
            "Easy\tMod.\tHard\n",
            "1.0000\t1.0000\t1.0000\n",
            "-----------------------\n",
            "\n"
          ],
          "name": "stdout"
        }
      ]
    },
    {
      "cell_type": "code",
      "metadata": {
        "id": "2bRm5G4sOkLb"
      },
      "source": [
        "!rm -rf eval_kitti/build/\n",
        "\n"
      ],
      "execution_count": null,
      "outputs": []
    }
  ]
}